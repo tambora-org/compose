{
 "cells": [
  {
   "cell_type": "code",
   "execution_count": 1,
   "metadata": {},
   "outputs": [
    {
     "data": {
      "text/plain": [
       "'iris.data'"
      ]
     },
     "execution_count": 1,
     "metadata": {},
     "output_type": "execute_result"
    }
   ],
   "source": [
    "import wget\n",
    "\n",
    "url = \"https://archive.ics.uci.edu/ml/machine-learning-databases/iris/iris.data\"\n",
    "wget.download(url)"
   ]
  },
  {
   "cell_type": "code",
   "execution_count": 4,
   "metadata": {},
   "outputs": [
    {
     "name": "stdout",
     "output_type": "stream",
     "text": [
      "Defaulting to user installation because normal site-packages is not writeable\n",
      "Requirement already satisfied: wget in ./.local/lib/python3.8/site-packages (3.2)\n"
     ]
    }
   ],
   "source": [
    "!pip3 install wget"
   ]
  },
  {
   "cell_type": "code",
   "execution_count": 2,
   "metadata": {},
   "outputs": [],
   "source": [
    "from pyspark.sql import SparkSession\n",
    "\n",
    "spark = SparkSession.\\\n",
    "        builder.\\\n",
    "        appName(\"pyspark-notebook\").\\\n",
    "        master(\"spark://spark-master:7077\").\\\n",
    "        config(\"spark.executor.memory\", \"512m\").\\\n",
    "        getOrCreate()"
   ]
  },
  {
   "cell_type": "code",
   "execution_count": null,
   "metadata": {},
   "outputs": [],
   "source": [
    "\n",
    "\n",
    "data = spark.read.csv(\"/cre/jupyter/admin/iris.data\")\n",
    "\n"
   ]
  },
  {
   "cell_type": "code",
   "execution_count": 7,
   "metadata": {},
   "outputs": [],
   "source": [
    "myRange = spark.range(1000).toDF(\"number\")"
   ]
  },
  {
   "cell_type": "code",
   "execution_count": 8,
   "metadata": {},
   "outputs": [
    {
     "name": "stdout",
     "output_type": "stream",
     "text": [
      "DataFrame[number: bigint]\n"
     ]
    }
   ],
   "source": [
    "print(myRange)"
   ]
  },
  {
   "cell_type": "code",
   "execution_count": 12,
   "metadata": {},
   "outputs": [],
   "source": [
    "divisBy2 = myRange.where(\"number % 2 = 0\")"
   ]
  },
  {
   "cell_type": "code",
   "execution_count": 13,
   "metadata": {},
   "outputs": [
    {
     "ename": "KeyboardInterrupt",
     "evalue": "",
     "output_type": "error",
     "traceback": [
      "\u001b[0;31m---------------------------------------------------------------------------\u001b[0m",
      "\u001b[0;31mKeyboardInterrupt\u001b[0m                         Traceback (most recent call last)",
      "\u001b[0;32m<ipython-input-13-2386307e7a39>\u001b[0m in \u001b[0;36m<module>\u001b[0;34m\u001b[0m\n\u001b[0;32m----> 1\u001b[0;31m \u001b[0mdivisBy2\u001b[0m\u001b[0;34m.\u001b[0m\u001b[0mcount\u001b[0m\u001b[0;34m(\u001b[0m\u001b[0;34m)\u001b[0m\u001b[0;34m\u001b[0m\u001b[0;34m\u001b[0m\u001b[0m\n\u001b[0m",
      "\u001b[0;32m/usr/local/lib/python3.8/dist-packages/pyspark/sql/dataframe.py\u001b[0m in \u001b[0;36mcount\u001b[0;34m(self)\u001b[0m\n\u001b[1;32m    662\u001b[0m         \u001b[0;36m2\u001b[0m\u001b[0;34m\u001b[0m\u001b[0;34m\u001b[0m\u001b[0m\n\u001b[1;32m    663\u001b[0m         \"\"\"\n\u001b[0;32m--> 664\u001b[0;31m         \u001b[0;32mreturn\u001b[0m \u001b[0mint\u001b[0m\u001b[0;34m(\u001b[0m\u001b[0mself\u001b[0m\u001b[0;34m.\u001b[0m\u001b[0m_jdf\u001b[0m\u001b[0;34m.\u001b[0m\u001b[0mcount\u001b[0m\u001b[0;34m(\u001b[0m\u001b[0;34m)\u001b[0m\u001b[0;34m)\u001b[0m\u001b[0;34m\u001b[0m\u001b[0;34m\u001b[0m\u001b[0m\n\u001b[0m\u001b[1;32m    665\u001b[0m \u001b[0;34m\u001b[0m\u001b[0m\n\u001b[1;32m    666\u001b[0m     \u001b[0;32mdef\u001b[0m \u001b[0mcollect\u001b[0m\u001b[0;34m(\u001b[0m\u001b[0mself\u001b[0m\u001b[0;34m)\u001b[0m\u001b[0;34m:\u001b[0m\u001b[0;34m\u001b[0m\u001b[0;34m\u001b[0m\u001b[0m\n",
      "\u001b[0;32m/usr/local/lib/python3.8/dist-packages/py4j/java_gateway.py\u001b[0m in \u001b[0;36m__call__\u001b[0;34m(self, *args)\u001b[0m\n\u001b[1;32m   1301\u001b[0m             \u001b[0mproto\u001b[0m\u001b[0;34m.\u001b[0m\u001b[0mEND_COMMAND_PART\u001b[0m\u001b[0;34m\u001b[0m\u001b[0;34m\u001b[0m\u001b[0m\n\u001b[1;32m   1302\u001b[0m \u001b[0;34m\u001b[0m\u001b[0m\n\u001b[0;32m-> 1303\u001b[0;31m         \u001b[0manswer\u001b[0m \u001b[0;34m=\u001b[0m \u001b[0mself\u001b[0m\u001b[0;34m.\u001b[0m\u001b[0mgateway_client\u001b[0m\u001b[0;34m.\u001b[0m\u001b[0msend_command\u001b[0m\u001b[0;34m(\u001b[0m\u001b[0mcommand\u001b[0m\u001b[0;34m)\u001b[0m\u001b[0;34m\u001b[0m\u001b[0;34m\u001b[0m\u001b[0m\n\u001b[0m\u001b[1;32m   1304\u001b[0m         return_value = get_return_value(\n\u001b[1;32m   1305\u001b[0m             answer, self.gateway_client, self.target_id, self.name)\n",
      "\u001b[0;32m/usr/local/lib/python3.8/dist-packages/py4j/java_gateway.py\u001b[0m in \u001b[0;36msend_command\u001b[0;34m(self, command, retry, binary)\u001b[0m\n\u001b[1;32m   1031\u001b[0m         \u001b[0mconnection\u001b[0m \u001b[0;34m=\u001b[0m \u001b[0mself\u001b[0m\u001b[0;34m.\u001b[0m\u001b[0m_get_connection\u001b[0m\u001b[0;34m(\u001b[0m\u001b[0;34m)\u001b[0m\u001b[0;34m\u001b[0m\u001b[0;34m\u001b[0m\u001b[0m\n\u001b[1;32m   1032\u001b[0m         \u001b[0;32mtry\u001b[0m\u001b[0;34m:\u001b[0m\u001b[0;34m\u001b[0m\u001b[0;34m\u001b[0m\u001b[0m\n\u001b[0;32m-> 1033\u001b[0;31m             \u001b[0mresponse\u001b[0m \u001b[0;34m=\u001b[0m \u001b[0mconnection\u001b[0m\u001b[0;34m.\u001b[0m\u001b[0msend_command\u001b[0m\u001b[0;34m(\u001b[0m\u001b[0mcommand\u001b[0m\u001b[0;34m)\u001b[0m\u001b[0;34m\u001b[0m\u001b[0;34m\u001b[0m\u001b[0m\n\u001b[0m\u001b[1;32m   1034\u001b[0m             \u001b[0;32mif\u001b[0m \u001b[0mbinary\u001b[0m\u001b[0;34m:\u001b[0m\u001b[0;34m\u001b[0m\u001b[0;34m\u001b[0m\u001b[0m\n\u001b[1;32m   1035\u001b[0m                 \u001b[0;32mreturn\u001b[0m \u001b[0mresponse\u001b[0m\u001b[0;34m,\u001b[0m \u001b[0mself\u001b[0m\u001b[0;34m.\u001b[0m\u001b[0m_create_connection_guard\u001b[0m\u001b[0;34m(\u001b[0m\u001b[0mconnection\u001b[0m\u001b[0;34m)\u001b[0m\u001b[0;34m\u001b[0m\u001b[0;34m\u001b[0m\u001b[0m\n",
      "\u001b[0;32m/usr/local/lib/python3.8/dist-packages/py4j/java_gateway.py\u001b[0m in \u001b[0;36msend_command\u001b[0;34m(self, command)\u001b[0m\n\u001b[1;32m   1198\u001b[0m \u001b[0;34m\u001b[0m\u001b[0m\n\u001b[1;32m   1199\u001b[0m         \u001b[0;32mtry\u001b[0m\u001b[0;34m:\u001b[0m\u001b[0;34m\u001b[0m\u001b[0;34m\u001b[0m\u001b[0m\n\u001b[0;32m-> 1200\u001b[0;31m             \u001b[0manswer\u001b[0m \u001b[0;34m=\u001b[0m \u001b[0msmart_decode\u001b[0m\u001b[0;34m(\u001b[0m\u001b[0mself\u001b[0m\u001b[0;34m.\u001b[0m\u001b[0mstream\u001b[0m\u001b[0;34m.\u001b[0m\u001b[0mreadline\u001b[0m\u001b[0;34m(\u001b[0m\u001b[0;34m)\u001b[0m\u001b[0;34m[\u001b[0m\u001b[0;34m:\u001b[0m\u001b[0;34m-\u001b[0m\u001b[0;36m1\u001b[0m\u001b[0;34m]\u001b[0m\u001b[0;34m)\u001b[0m\u001b[0;34m\u001b[0m\u001b[0;34m\u001b[0m\u001b[0m\n\u001b[0m\u001b[1;32m   1201\u001b[0m             \u001b[0mlogger\u001b[0m\u001b[0;34m.\u001b[0m\u001b[0mdebug\u001b[0m\u001b[0;34m(\u001b[0m\u001b[0;34m\"Answer received: {0}\"\u001b[0m\u001b[0;34m.\u001b[0m\u001b[0mformat\u001b[0m\u001b[0;34m(\u001b[0m\u001b[0manswer\u001b[0m\u001b[0;34m)\u001b[0m\u001b[0;34m)\u001b[0m\u001b[0;34m\u001b[0m\u001b[0;34m\u001b[0m\u001b[0m\n\u001b[1;32m   1202\u001b[0m             \u001b[0;32mif\u001b[0m \u001b[0manswer\u001b[0m\u001b[0;34m.\u001b[0m\u001b[0mstartswith\u001b[0m\u001b[0;34m(\u001b[0m\u001b[0mproto\u001b[0m\u001b[0;34m.\u001b[0m\u001b[0mRETURN_MESSAGE\u001b[0m\u001b[0;34m)\u001b[0m\u001b[0;34m:\u001b[0m\u001b[0;34m\u001b[0m\u001b[0;34m\u001b[0m\u001b[0m\n",
      "\u001b[0;32m/usr/lib/python3.8/socket.py\u001b[0m in \u001b[0;36mreadinto\u001b[0;34m(self, b)\u001b[0m\n\u001b[1;32m    667\u001b[0m         \u001b[0;32mwhile\u001b[0m \u001b[0;32mTrue\u001b[0m\u001b[0;34m:\u001b[0m\u001b[0;34m\u001b[0m\u001b[0;34m\u001b[0m\u001b[0m\n\u001b[1;32m    668\u001b[0m             \u001b[0;32mtry\u001b[0m\u001b[0;34m:\u001b[0m\u001b[0;34m\u001b[0m\u001b[0;34m\u001b[0m\u001b[0m\n\u001b[0;32m--> 669\u001b[0;31m                 \u001b[0;32mreturn\u001b[0m \u001b[0mself\u001b[0m\u001b[0;34m.\u001b[0m\u001b[0m_sock\u001b[0m\u001b[0;34m.\u001b[0m\u001b[0mrecv_into\u001b[0m\u001b[0;34m(\u001b[0m\u001b[0mb\u001b[0m\u001b[0;34m)\u001b[0m\u001b[0;34m\u001b[0m\u001b[0;34m\u001b[0m\u001b[0m\n\u001b[0m\u001b[1;32m    670\u001b[0m             \u001b[0;32mexcept\u001b[0m \u001b[0mtimeout\u001b[0m\u001b[0;34m:\u001b[0m\u001b[0;34m\u001b[0m\u001b[0;34m\u001b[0m\u001b[0m\n\u001b[1;32m    671\u001b[0m                 \u001b[0mself\u001b[0m\u001b[0;34m.\u001b[0m\u001b[0m_timeout_occurred\u001b[0m \u001b[0;34m=\u001b[0m \u001b[0;32mTrue\u001b[0m\u001b[0;34m\u001b[0m\u001b[0;34m\u001b[0m\u001b[0m\n",
      "\u001b[0;31mKeyboardInterrupt\u001b[0m: "
     ]
    }
   ],
   "source": [
    "divisBy2.count()"
   ]
  },
  {
   "cell_type": "code",
   "execution_count": 19,
   "metadata": {},
   "outputs": [
    {
     "name": "stdout",
     "output_type": "stream",
     "text": [
      "5.1,3.5,1.4,0.2,Iris-setosa\n",
      "4.9,3.0,1.4,0.2,Iris-setosa\n",
      "4.7,3.2,1.3,0.2,Iris-setosa\n",
      "4.6,3.1,1.5,0.2,Iris-setosa\n",
      "5.0,3.6,1.4,0.2,Iris-setosa\n",
      "5.4,3.9,1.7,0.4,Iris-setosa\n",
      "4.6,3.4,1.4,0.3,Iris-setosa\n",
      "5.0,3.4,1.5,0.2,Iris-setosa\n",
      "4.4,2.9,1.4,0.2,Iris-setosa\n",
      "4.9,3.1,1.5,0.1,Iris-setosa\n",
      "5.4,3.7,1.5,0.2,Iris-setosa\n",
      "4.8,3.4,1.6,0.2,Iris-setosa\n",
      "4.8,3.0,1.4,0.1,Iris-setosa\n",
      "4.3,3.0,1.1,0.1,Iris-setosa\n",
      "5.8,4.0,1.2,0.2,Iris-setosa\n",
      "5.7,4.4,1.5,0.4,Iris-setosa\n",
      "5.4,3.9,1.3,0.4,Iris-setosa\n",
      "5.1,3.5,1.4,0.3,Iris-setosa\n",
      "5.7,3.8,1.7,0.3,Iris-setosa\n",
      "5.1,3.8,1.5,0.3,Iris-setosa\n",
      "5.4,3.4,1.7,0.2,Iris-setosa\n",
      "5.1,3.7,1.5,0.4,Iris-setosa\n",
      "4.6,3.6,1.0,0.2,Iris-setosa\n",
      "5.1,3.3,1.7,0.5,Iris-setosa\n",
      "4.8,3.4,1.9,0.2,Iris-setosa\n",
      "5.0,3.0,1.6,0.2,Iris-setosa\n",
      "5.0,3.4,1.6,0.4,Iris-setosa\n",
      "5.2,3.5,1.5,0.2,Iris-setosa\n",
      "5.2,3.4,1.4,0.2,Iris-setosa\n",
      "4.7,3.2,1.6,0.2,Iris-setosa\n",
      "4.8,3.1,1.6,0.2,Iris-setosa\n",
      "5.4,3.4,1.5,0.4,Iris-setosa\n",
      "5.2,4.1,1.5,0.1,Iris-setosa\n",
      "5.5,4.2,1.4,0.2,Iris-setosa\n",
      "4.9,3.1,1.5,0.1,Iris-setosa\n",
      "5.0,3.2,1.2,0.2,Iris-setosa\n",
      "5.5,3.5,1.3,0.2,Iris-setosa\n",
      "4.9,3.1,1.5,0.1,Iris-setosa\n",
      "4.4,3.0,1.3,0.2,Iris-setosa\n",
      "5.1,3.4,1.5,0.2,Iris-setosa\n",
      "5.0,3.5,1.3,0.3,Iris-setosa\n",
      "4.5,2.3,1.3,0.3,Iris-setosa\n",
      "4.4,3.2,1.3,0.2,Iris-setosa\n",
      "5.0,3.5,1.6,0.6,Iris-setosa\n",
      "5.1,3.8,1.9,0.4,Iris-setosa\n",
      "4.8,3.0,1.4,0.3,Iris-setosa\n",
      "5.1,3.8,1.6,0.2,Iris-setosa\n",
      "4.6,3.2,1.4,0.2,Iris-setosa\n",
      "5.3,3.7,1.5,0.2,Iris-setosa\n",
      "5.0,3.3,1.4,0.2,Iris-setosa\n",
      "7.0,3.2,4.7,1.4,Iris-versicolor\n",
      "6.4,3.2,4.5,1.5,Iris-versicolor\n",
      "6.9,3.1,4.9,1.5,Iris-versicolor\n",
      "5.5,2.3,4.0,1.3,Iris-versicolor\n",
      "6.5,2.8,4.6,1.5,Iris-versicolor\n",
      "5.7,2.8,4.5,1.3,Iris-versicolor\n",
      "6.3,3.3,4.7,1.6,Iris-versicolor\n",
      "4.9,2.4,3.3,1.0,Iris-versicolor\n",
      "6.6,2.9,4.6,1.3,Iris-versicolor\n",
      "5.2,2.7,3.9,1.4,Iris-versicolor\n",
      "5.0,2.0,3.5,1.0,Iris-versicolor\n",
      "5.9,3.0,4.2,1.5,Iris-versicolor\n",
      "6.0,2.2,4.0,1.0,Iris-versicolor\n",
      "6.1,2.9,4.7,1.4,Iris-versicolor\n",
      "5.6,2.9,3.6,1.3,Iris-versicolor\n",
      "6.7,3.1,4.4,1.4,Iris-versicolor\n",
      "5.6,3.0,4.5,1.5,Iris-versicolor\n",
      "5.8,2.7,4.1,1.0,Iris-versicolor\n",
      "6.2,2.2,4.5,1.5,Iris-versicolor\n",
      "5.6,2.5,3.9,1.1,Iris-versicolor\n",
      "5.9,3.2,4.8,1.8,Iris-versicolor\n",
      "6.1,2.8,4.0,1.3,Iris-versicolor\n",
      "6.3,2.5,4.9,1.5,Iris-versicolor\n",
      "6.1,2.8,4.7,1.2,Iris-versicolor\n",
      "6.4,2.9,4.3,1.3,Iris-versicolor\n",
      "6.6,3.0,4.4,1.4,Iris-versicolor\n",
      "6.8,2.8,4.8,1.4,Iris-versicolor\n",
      "6.7,3.0,5.0,1.7,Iris-versicolor\n",
      "6.0,2.9,4.5,1.5,Iris-versicolor\n",
      "5.7,2.6,3.5,1.0,Iris-versicolor\n",
      "5.5,2.4,3.8,1.1,Iris-versicolor\n",
      "5.5,2.4,3.7,1.0,Iris-versicolor\n",
      "5.8,2.7,3.9,1.2,Iris-versicolor\n",
      "6.0,2.7,5.1,1.6,Iris-versicolor\n",
      "5.4,3.0,4.5,1.5,Iris-versicolor\n",
      "6.0,3.4,4.5,1.6,Iris-versicolor\n",
      "6.7,3.1,4.7,1.5,Iris-versicolor\n",
      "6.3,2.3,4.4,1.3,Iris-versicolor\n",
      "5.6,3.0,4.1,1.3,Iris-versicolor\n",
      "5.5,2.5,4.0,1.3,Iris-versicolor\n",
      "5.5,2.6,4.4,1.2,Iris-versicolor\n",
      "6.1,3.0,4.6,1.4,Iris-versicolor\n",
      "5.8,2.6,4.0,1.2,Iris-versicolor\n",
      "5.0,2.3,3.3,1.0,Iris-versicolor\n",
      "5.6,2.7,4.2,1.3,Iris-versicolor\n",
      "5.7,3.0,4.2,1.2,Iris-versicolor\n",
      "5.7,2.9,4.2,1.3,Iris-versicolor\n",
      "6.2,2.9,4.3,1.3,Iris-versicolor\n",
      "5.1,2.5,3.0,1.1,Iris-versicolor\n",
      "5.7,2.8,4.1,1.3,Iris-versicolor\n",
      "6.3,3.3,6.0,2.5,Iris-virginica\n",
      "5.8,2.7,5.1,1.9,Iris-virginica\n",
      "7.1,3.0,5.9,2.1,Iris-virginica\n",
      "6.3,2.9,5.6,1.8,Iris-virginica\n",
      "6.5,3.0,5.8,2.2,Iris-virginica\n",
      "7.6,3.0,6.6,2.1,Iris-virginica\n",
      "4.9,2.5,4.5,1.7,Iris-virginica\n",
      "7.3,2.9,6.3,1.8,Iris-virginica\n",
      "6.7,2.5,5.8,1.8,Iris-virginica\n",
      "7.2,3.6,6.1,2.5,Iris-virginica\n",
      "6.5,3.2,5.1,2.0,Iris-virginica\n",
      "6.4,2.7,5.3,1.9,Iris-virginica\n",
      "6.8,3.0,5.5,2.1,Iris-virginica\n",
      "5.7,2.5,5.0,2.0,Iris-virginica\n",
      "5.8,2.8,5.1,2.4,Iris-virginica\n",
      "6.4,3.2,5.3,2.3,Iris-virginica\n",
      "6.5,3.0,5.5,1.8,Iris-virginica\n",
      "7.7,3.8,6.7,2.2,Iris-virginica\n",
      "7.7,2.6,6.9,2.3,Iris-virginica\n",
      "6.0,2.2,5.0,1.5,Iris-virginica\n",
      "6.9,3.2,5.7,2.3,Iris-virginica\n",
      "5.6,2.8,4.9,2.0,Iris-virginica\n",
      "7.7,2.8,6.7,2.0,Iris-virginica\n",
      "6.3,2.7,4.9,1.8,Iris-virginica\n",
      "6.7,3.3,5.7,2.1,Iris-virginica\n",
      "7.2,3.2,6.0,1.8,Iris-virginica\n",
      "6.2,2.8,4.8,1.8,Iris-virginica\n",
      "6.1,3.0,4.9,1.8,Iris-virginica\n",
      "6.4,2.8,5.6,2.1,Iris-virginica\n",
      "7.2,3.0,5.8,1.6,Iris-virginica\n",
      "7.4,2.8,6.1,1.9,Iris-virginica\n",
      "7.9,3.8,6.4,2.0,Iris-virginica\n",
      "6.4,2.8,5.6,2.2,Iris-virginica\n",
      "6.3,2.8,5.1,1.5,Iris-virginica\n",
      "6.1,2.6,5.6,1.4,Iris-virginica\n",
      "7.7,3.0,6.1,2.3,Iris-virginica\n",
      "6.3,3.4,5.6,2.4,Iris-virginica\n",
      "6.4,3.1,5.5,1.8,Iris-virginica\n",
      "6.0,3.0,4.8,1.8,Iris-virginica\n",
      "6.9,3.1,5.4,2.1,Iris-virginica\n",
      "6.7,3.1,5.6,2.4,Iris-virginica\n",
      "6.9,3.1,5.1,2.3,Iris-virginica\n",
      "5.8,2.7,5.1,1.9,Iris-virginica\n",
      "6.8,3.2,5.9,2.3,Iris-virginica\n",
      "6.7,3.3,5.7,2.5,Iris-virginica\n",
      "6.7,3.0,5.2,2.3,Iris-virginica\n",
      "6.3,2.5,5.0,1.9,Iris-virginica\n",
      "6.5,3.0,5.2,2.0,Iris-virginica\n",
      "6.2,3.4,5.4,2.3,Iris-virginica\n",
      "5.9,3.0,5.1,1.8,Iris-virginica\n",
      "\n"
     ]
    }
   ],
   "source": [
    "!cat /cre/jupyter/admin/iris.data\n"
   ]
  },
  {
   "cell_type": "code",
   "execution_count": 22,
   "metadata": {},
   "outputs": [
    {
     "ename": "FileNotFoundError",
     "evalue": "[Errno 2] No such file or directory: '/cre/iris.data'",
     "output_type": "error",
     "traceback": [
      "\u001b[0;31m---------------------------------------------------------------------------\u001b[0m",
      "\u001b[0;31mFileNotFoundError\u001b[0m                         Traceback (most recent call last)",
      "\u001b[0;32m<ipython-input-22-ca588132d30f>\u001b[0m in \u001b[0;36m<module>\u001b[0;34m\u001b[0m\n\u001b[1;32m      2\u001b[0m \u001b[0;34m\u001b[0m\u001b[0m\n\u001b[1;32m      3\u001b[0m \u001b[0;34m\u001b[0m\u001b[0m\n\u001b[0;32m----> 4\u001b[0;31m \u001b[0;32mwith\u001b[0m \u001b[0mopen\u001b[0m\u001b[0;34m(\u001b[0m\u001b[0mfileName1\u001b[0m\u001b[0;34m,\u001b[0m \u001b[0;34m\"r\"\u001b[0m\u001b[0;34m)\u001b[0m \u001b[0;32mas\u001b[0m \u001b[0mins\u001b[0m\u001b[0;34m:\u001b[0m\u001b[0;34m\u001b[0m\u001b[0;34m\u001b[0m\u001b[0m\n\u001b[0m\u001b[1;32m      5\u001b[0m     \u001b[0;32mfor\u001b[0m \u001b[0mline\u001b[0m \u001b[0;32min\u001b[0m \u001b[0mins\u001b[0m\u001b[0;34m:\u001b[0m\u001b[0;34m\u001b[0m\u001b[0;34m\u001b[0m\u001b[0m\n\u001b[1;32m      6\u001b[0m         \u001b[0mprint\u001b[0m\u001b[0;34m(\u001b[0m\u001b[0mline\u001b[0m\u001b[0;34m)\u001b[0m\u001b[0;34m\u001b[0m\u001b[0;34m\u001b[0m\u001b[0m\n",
      "\u001b[0;31mFileNotFoundError\u001b[0m: [Errno 2] No such file or directory: '/cre/iris.data'"
     ]
    }
   ],
   "source": [
    "fileName1='/cre/iris.data'\n",
    "\n",
    "\n",
    "with open(fileName1, \"r\") as ins:\n",
    "    for line in ins:\n",
    "        print(line)"
   ]
  },
  {
   "cell_type": "code",
   "execution_count": null,
   "metadata": {},
   "outputs": [],
   "source": []
  }
 ],
 "metadata": {
  "kernelspec": {
   "display_name": "Python 3",
   "language": "python",
   "name": "python3"
  },
  "language_info": {
   "codemirror_mode": {
    "name": "ipython",
    "version": 3
   },
   "file_extension": ".py",
   "mimetype": "text/x-python",
   "name": "python",
   "nbconvert_exporter": "python",
   "pygments_lexer": "ipython3",
   "version": "3.8.5"
  }
 },
 "nbformat": 4,
 "nbformat_minor": 4
}
